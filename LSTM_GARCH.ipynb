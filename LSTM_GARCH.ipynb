{
 "cells": [
  {
   "cell_type": "code",
   "execution_count": 10,
   "id": "89c65fe3-d4f2-4111-bd5e-9f0d4dc428ca",
   "metadata": {},
   "outputs": [],
   "source": [
    "import numpy as np\n",
    "import matplotlib.pyplot as plt\n",
    "import pandas as pd\n",
    "import scipy.optimize as opt\n",
    "import yfinance as yf"
   ]
  },
  {
   "cell_type": "code",
   "execution_count": 11,
   "id": "9416b27c-ac96-40f5-add6-ca48f5720e84",
   "metadata": {},
   "outputs": [],
   "source": [
    "import math\n",
    "def sigmoid(x):\n",
    "    try:\n",
    "        sig = 1 / (1 + math.exp(-x))\n",
    "    except:\n",
    "        sig = 0\n",
    "    return sig\n",
    "\n",
    "def relu(x, bound = 100):\n",
    "    return min(max(0,x),bound)"
   ]
  },
  {
   "cell_type": "code",
   "execution_count": 12,
   "id": "68bc98a5-3fdd-49dd-9c1f-5ac34477de96",
   "metadata": {},
   "outputs": [
    {
     "name": "stdout",
     "output_type": "stream",
     "text": [
      "[*********************100%***********************]  1 of 1 completed\n"
     ]
    },
    {
     "data": {
      "text/plain": [
       "[<matplotlib.lines.Line2D at 0x1e1f7331670>]"
      ]
     },
     "execution_count": 12,
     "metadata": {},
     "output_type": "execute_result"
    },
    {
     "data": {
      "image/png": "[encoded data removed]",
      "text/plain": [
       "<Figure size 432x288 with 1 Axes>"
      ]
     },
     "metadata": {
      "needs_background": "light"
     },
     "output_type": "display_data"
    }
   ],
   "source": [
    "data = yf.download(\"^GSPC\", start=\"2004-01-01\", end=\"2012-01-01\")\n",
    "\n",
    "data['pct_change'] = data.Open.pct_change()\n",
    "\n",
    "data['log_ret'] = np.log(data.Open) - np.log(data.Open.shift(1))\n",
    "\n",
    "\n",
    "data['log_ret * 100'] = data['log_ret'] * 100\n",
    "\n",
    "returns = data['log_ret * 100'].values[1:]\n",
    "\n",
    "plt.plot(data['log_ret * 100'])"
   ]
  },
  {
   "cell_type": "markdown",
   "id": "28eb4a50-ae52-4c34-9fdc-d7c9d134fa3c",
   "metadata": {},
   "source": [
    "# 1. LSTM\n",
    "\n",
    "\\begin{align}\n",
    "y_t &= \\sigma_t \\epsilon_t \\\\\n",
    "\\sigma_t^2 &= w_t + \\alpha y_{t-1}^2 + \\beta \\sigma_{t-1}^2 \\\\\n",
    "w_t &= f(\\gamma_0 + \\gamma_1 h_t) \\qquad \\text{authors always used f(x) = x for this function} \\\\ \n",
    "h_t &= o_t \\phi_h (c_t) \\\\\n",
    "c_t &= f_t c_{t-1}+ i_t \\tilde{c}_t \\\\\n",
    "\\tilde{c}_t &= \\phi_\\tilde{c} (v_1 x_t + \\mu_1 h_{t-1} + b_{\\tilde c}) \\\\\n",
    "o_t &= \\phi_o (v_2 x_t + \\mu_2 h_{t-1} + b_o) \\\\\n",
    "i_t &= \\phi_i (v_3 x_t + \\mu_3 h_{t-1} + b_i) \\\\\n",
    "f_t &= \\phi_f (v_4 x_t + \\mu_4 h_{t-1} + b_f) \\\\\n",
    "\\end{align}\n",
    "Literature says: $\\phi_j = $ sigmoid, for $j \\in (o,i,f)$, $\\phi_c$ and $\\phi_h$ = tanh. I would at least choose $\\phi_h$ = relu or sigmoid"
   ]
  },
  {
   "cell_type": "code",
   "execution_count": 23,
   "id": "ebfe9858-6c21-46fa-b249-026c45324804",
   "metadata": {},
   "outputs": [],
   "source": [
    "def LSTM_garch(pars, nun_lin_func, returns):\n",
    "    (alpha, beta, gamma_0, gamma_1, v_11, v_12, v_21, v_22, v_31, v_32, v_41, v_42, mu_1, mu_2, mu_3, mu_4, b_f, b_i, b_o, b_c) = pars\n",
    "    iT = len(returns)\n",
    "    sigma_2 = np.zeros(iT)\n",
    "    w = np.zeros(iT)\n",
    "    h = np.zeros(iT)\n",
    "    f = np.zeros(iT)\n",
    "    ij = np.zeros(iT)\n",
    "    o = np.zeros(iT)\n",
    "    c = np.zeros(iT)\n",
    "    c_tilde = np.zeros(iT)\n",
    "    for i in range(iT):\n",
    "        if i == 0:\n",
    "            sigma_2[i] = 0.1/(1- alpha - beta)\n",
    "        else:\n",
    "            f[i] = sigmoid(v_41 * np.sign(returns[i-1]) *  returns[i-1]**2 + v_42 * sigma_2[i-1] + mu_4 * h[i-1] + b_f) # here sigmoid instead of ReLU\n",
    "            ij[i] = sigmoid(v_31 * np.sign(returns[i-1]) *  returns[i-1]**2 + v_32 * sigma_2[i-1] + mu_3 * h[i-1] + b_i)\n",
    "            o[i] = sigmoid(v_21 * np.sign(returns[i-1]) *  returns[i-1]**2 + v_22 * sigma_2[i-1] + mu_2 * h[i-1] + b_o)\n",
    "            c_tilde[i] = sigmoid(v_21 * np.sign(returns[i-1]) *  returns[i-1]**2 + v_22 * sigma_2[i-1] + mu_2 * h[i-1] + b_o)\n",
    "            c[i] = f[i] * c[i-1] + ij[i] * c_tilde[i]\n",
    "            h[i] = o[i] * sigmoid(c[i])\n",
    "            w[i] = gamma_0 + gamma_1 * h[i] \n",
    "            sigma_2[i] = w[i] + alpha * returns[i-1]**2 + beta * sigma_2[i-1]\n",
    "    return sigma_2, w, h\n",
    "\n",
    "def LSTM_garch_loglike(start_v, nun_lin_func, returns):\n",
    "    sigma_2 = LSTM_garch(start_v, nun_lin_func, returns)[0]\n",
    "    LogL = - np.sum(-np.log(sigma_2) -  returns**2/sigma_2)\n",
    "    return LogL"
   ]
  },
  {
   "cell_type": "code",
   "execution_count": 24,
   "id": "f32d43dc-836f-4308-849b-ce157e4e1213",
   "metadata": {},
   "outputs": [
    {
     "name": "stdout",
     "output_type": "stream",
     "text": [
      "20\n",
      "20\n"
     ]
    },
    {
     "name": "stderr",
     "output_type": "stream",
     "text": [
      "C:\\Users\\mobem\\AppData\\Local\\Temp\\ipykernel_14564\\1778717333.py:28: RuntimeWarning: invalid value encountered in log\n",
      "  LogL = - np.sum(-np.log(sigma_2) -  returns**2/sigma_2)\n"
     ]
    },
    {
     "name": "stdout",
     "output_type": "stream",
     "text": [
      "Optimization terminated successfully.\n",
      "         Current function value: 1949.664240\n",
      "         Iterations: 1527\n",
      "         Function evaluations: 2021\n"
     ]
    },
    {
     "data": {
      "text/plain": [
       "'\\nplt.bar(par_names, res.x)\\nplt.show()\\n\\nplt.bar(par_names[4:], res.x[4:])\\nplt.show()'"
      ]
     },
     "execution_count": 24,
     "metadata": {},
     "output_type": "execute_result"
    }
   ],
   "source": [
    "#cons = ({\"type\": \"ineq\", \"func\" : lambda x: np.array(x)})\n",
    "vP0 = np.array((0.1, 0.25, 0.52, 0.1 , 0.1, 0.1, 0.1, 0.1, 0.1, 0.1, 0.1, 0.1, 0.1, 0.1, 0.1, 0.1, 0.1, 0.1, 0.1, 0.1))\n",
    "my_bounds = ((0.0001,1), (0.0001,1), (0.0001, 3),  (0.0001, 3) , (-10, 10), (-10, 10), (-10,10)  ,(-10,10 ),(-10,10 ),(-10,10 ),(-10,10 ),(-10,10 ),(-10,10 ),(-10,10 ),(-10,10 ),(-10,10 ),(-10,10 ),(-10,10 ),(-10,10 ),(-10,10 ))\n",
    "\n",
    "print(len(vP0))\n",
    "print(len(my_bounds))\n",
    "res = opt.minimize(LSTM_garch_loglike, vP0, args = (relu, returns),\n",
    "                  bounds = my_bounds,\n",
    "                    method = \"Nelder-Mead\",\n",
    "                  options = {\"disp\": True, \"maxiter\": 500000})\n",
    "\n",
    "#par_names = [\"alpha\", \"beta\", \"gamma0\", \"gamma1\",  \"v11\",  \"v2\",  \"v3\",  \"v4\"]\n",
    "\"\"\"\n",
    "plt.bar(par_names, res.x)\n",
    "plt.show()\n",
    "\n",
    "plt.bar(par_names[4:], res.x[4:])\n",
    "plt.show()\"\"\""
   ]
  },
  {
   "cell_type": "code",
   "execution_count": null,
   "id": "1b6bfa77-23a3-4293-b5ad-b2219cfbc6e7",
   "metadata": {},
   "outputs": [],
   "source": []
  },
  {
   "cell_type": "code",
   "execution_count": null,
   "id": "7616560f-2836-4f37-9b73-a8c78f29a3d4",
   "metadata": {},
   "outputs": [],
   "source": []
  }
 ],
 "metadata": {
  "kernelspec": {
   "display_name": "Python 3 (ipykernel)",
   "language": "python",
   "name": "python3"
  },
  "language_info": {
   "codemirror_mode": {
    "name": "ipython",
    "version": 3
   },
   "file_extension": ".py",
   "mimetype": "text/x-python",
   "name": "python",
   "nbconvert_exporter": "python",
   "pygments_lexer": "ipython3",
   "version": "3.9.12"
  }
 },
 "nbformat": 4,
 "nbformat_minor": 5
}
