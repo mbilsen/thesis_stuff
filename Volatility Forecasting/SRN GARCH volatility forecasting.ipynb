{
 "cells": [
  {
   "cell_type": "code",
   "execution_count": 1,
   "id": "b3e29afc-58d4-42ee-8766-9144a123d6c5",
   "metadata": {},
   "outputs": [],
   "source": [
    "import math\n",
    "import numpy as np\n",
    "import matplotlib.pyplot as plt\n",
    "import pandas as pd\n",
    "import scipy.optimize as opt\n",
    "import yfinance as yf\n",
    "import datetime\n",
    "\n",
    "import warnings\n",
    "warnings.filterwarnings(\"ignore\")\n",
    "\n",
    "import RECH_functions as RECH\n",
    "\n",
    "import pickle"
   ]
  },
  {
   "cell_type": "code",
   "execution_count": 2,
   "id": "aa1bb592-5c1e-4a33-ae8e-f152f2b0d785",
   "metadata": {},
   "outputs": [],
   "source": [
    "act_func = RECH.relu"
   ]
  },
  {
   "cell_type": "code",
   "execution_count": 3,
   "id": "33bd0c1e-02ec-41e1-bf5a-a95dea784c56",
   "metadata": {},
   "outputs": [
    {
     "name": "stdout",
     "output_type": "stream",
     "text": [
      "[*********************100%***********************]  1 of 1 completed\n"
     ]
    },
    {
     "data": {
      "text/plain": [
       "Text(0.5, 1.0, 'S&P 500 log returns')"
      ]
     },
     "execution_count": 3,
     "metadata": {},
     "output_type": "execute_result"
    },
    {
     "data": {
      "image/png": "[encoded data removed]",
      "text/plain": [
       "<Figure size 432x288 with 1 Axes>"
      ]
     },
     "metadata": {
      "needs_background": "light"
     },
     "output_type": "display_data"
    }
   ],
   "source": [
    "data = yf.download(\"^GSPC\", start=\"1990-01-01\", end=\"2020-10-01\")\n",
    "data['pct_change'] = data[\"Adj Close\"].pct_change()\n",
    "data['log_ret'] = np.log(data[\"Adj Close\"]) - np.log(data[\"Adj Close\"].shift(1))\n",
    "data['log_ret * 100'] = data['log_ret'] * 100\n",
    "returns = data['log_ret * 100'].values[1:]\n",
    "plt.plot(data['log_ret * 100'])\n",
    "plt.title(\"S&P 500 log returns\", size = 20)"
   ]
  },
  {
   "cell_type": "code",
   "execution_count": 4,
   "id": "a833b7e9-dcb8-4750-b847-3568384804f1",
   "metadata": {},
   "outputs": [],
   "source": [
    "# in sample data is all the data before 01.01.2015\n",
    "is_list = [(data.index[x] < datetime.date(2015, 1, 1)) for x in range(len(data)) ]\n",
    "is_data = data[is_list]\n",
    "is_data.drop(index=is_data.index[0], axis=0, inplace=True) # dropping the first value with NA in returns\n",
    "is_returns = is_data['log_ret * 100'].values\n",
    "\n",
    "# out of sample data is all the data from 01.01.2015\n",
    "os_list = [(data.index[x] >= datetime.date(2015, 1, 1)) for x in range(len(data)) ]\n",
    "os_data = data[os_list]\n",
    "os_returns = os_data['log_ret * 100'].values"
   ]
  },
  {
   "cell_type": "code",
   "execution_count": 6,
   "id": "de9447a5-02a3-4a16-9a1d-1ad0532efbe8",
   "metadata": {},
   "outputs": [
    {
     "data": {
      "text/plain": [
       "1447"
      ]
     },
     "execution_count": 6,
     "metadata": {},
     "output_type": "execute_result"
    }
   ],
   "source": [
    "len(os_data)"
   ]
  },
  {
   "cell_type": "code",
   "execution_count": 7,
   "id": "683a3bb8-44f3-4977-a689-3579ebb96935",
   "metadata": {},
   "outputs": [
    {
     "data": {
      "text/plain": [
       "6300"
      ]
     },
     "execution_count": 7,
     "metadata": {},
     "output_type": "execute_result"
    }
   ],
   "source": [
    "len(is_data)"
   ]
  },
  {
   "cell_type": "raw",
   "id": "ed811a6c-a057-4b61-8bbb-96272d5923a0",
   "metadata": {},
   "source": [
    "vP0 = (0.1, 0.1, 0.8)\n",
    "my_bounds = ((0.0001,1), (0.0001,1), (0.0001, 1))\n",
    "\n",
    "res_garch = opt.minimize(RECH.garch_loglike, vP0, args = (act_func, is_returns),\n",
    "                  bounds = my_bounds,\n",
    "                   method = \"Nelder-Mead\",\n",
    "                  options = {\"disp\": True, \"maxiter\": 500000})"
   ]
  },
  {
   "cell_type": "code",
   "execution_count": 9,
   "id": "c8462f07-94b0-41c6-86ee-1b47523ce464",
   "metadata": {},
   "outputs": [
    {
     "name": "stdout",
     "output_type": "stream",
     "text": [
      "Optimization terminated successfully.\n",
      "         Current function value: 5131.044521\n",
      "         Iterations: 3060\n",
      "         Function evaluations: 4457\n"
     ]
    }
   ],
   "source": [
    "vP0 = (0.1, 0.8, 0.1, 0.1 , 0.1, 0.1, 0.1, 0.1)\n",
    "my_bounds = ((0.0001,1), (0.0001,1), (0.0001, 3),  (0.0001, 3) , (-1, 1), (-1, 1), (-1,1)  ,(-10,10 ))\n",
    "\n",
    "res_srn_garch = opt.minimize(RECH.SRN_garch_loglike, vP0, args = (act_func, is_returns),\n",
    "                  bounds = my_bounds,\n",
    "                   method = \"Nelder-Mead\",\n",
    "                  options = {\"disp\": True, \"maxiter\": 500000})\n",
    "par_names = [\"alpha\", \"beta\", \"gamma0\", \"gamma1\",  \"v1\",  \"v2\",  \"v3\",  \"b\"]\n"
   ]
  },
  {
   "cell_type": "code",
   "execution_count": 10,
   "id": "d66b450a-cd21-4940-a299-e80c3e3f768b",
   "metadata": {},
   "outputs": [
    {
     "data": {
      "text/plain": [
       "array([ 0.01770139,  0.81724555,  0.03823231,  0.14004568, -0.95486312,\n",
       "        1.        , -0.10571166, -0.24026221])"
      ]
     },
     "execution_count": 10,
     "metadata": {},
     "output_type": "execute_result"
    }
   ],
   "source": [
    "res_srn_garch.x"
   ]
  },
  {
   "cell_type": "code",
   "execution_count": 11,
   "id": "45afc5e4-3e6f-4e5c-9570-ddad70d47251",
   "metadata": {},
   "outputs": [
    {
     "data": {
      "text/plain": [
       "5131.044521229473"
      ]
     },
     "execution_count": 11,
     "metadata": {},
     "output_type": "execute_result"
    }
   ],
   "source": [
    "res_srn_garch.fun"
   ]
  },
  {
   "cell_type": "code",
   "execution_count": null,
   "id": "9b7970cc-6829-4685-93ed-a1e58993f00f",
   "metadata": {},
   "outputs": [],
   "source": []
  },
  {
   "cell_type": "code",
   "execution_count": null,
   "id": "f381b549-abd5-4508-bf89-2d58d419af81",
   "metadata": {},
   "outputs": [],
   "source": []
  }
 ],
 "metadata": {
  "kernelspec": {
   "display_name": "Python 3 (ipykernel)",
   "language": "python",
   "name": "python3"
  },
  "language_info": {
   "codemirror_mode": {
    "name": "ipython",
    "version": 3
   },
   "file_extension": ".py",
   "mimetype": "text/x-python",
   "name": "python",
   "nbconvert_exporter": "python",
   "pygments_lexer": "ipython3",
   "version": "3.9.12"
  }
 },
 "nbformat": 4,
 "nbformat_minor": 5
}
