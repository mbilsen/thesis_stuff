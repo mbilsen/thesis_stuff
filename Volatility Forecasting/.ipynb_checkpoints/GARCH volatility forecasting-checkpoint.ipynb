{
 "cells": [
  {
   "cell_type": "code",
   "execution_count": 1,
   "id": "358f983e-0d1a-4130-b811-98c9626c39b1",
   "metadata": {},
   "outputs": [],
   "source": [
    "import math\n",
    "import numpy as np\n",
    "import matplotlib.pyplot as plt\n",
    "import pandas as pd\n",
    "import scipy.optimize as opt\n",
    "import yfinance as yf\n",
    "import datetime\n",
    "\n",
    "import warnings\n",
    "warnings.filterwarnings(\"ignore\")\n",
    "\n",
    "import RECH_functions as RECH\n",
    "\n",
    "import pickle"
   ]
  },
  {
   "cell_type": "raw",
   "id": "cc8222e2-f8f1-4c20-b032-fbc7ce6bbd65",
   "metadata": {},
   "source": [
    "data = yf.download(\"BTC-USD\", start=\"2014-10-01\", end=\"2020-10-01\")\n",
    "data['pct_change'] = data[\"Adj Close\"].pct_change()\n",
    "data['log_ret'] = np.log(data[\"Adj Close\"]) - np.log(data[\"Adj Close\"].shift(1))\n",
    "data['log_ret * 100'] = data['log_ret'] * 100\n",
    "data['log_ret * 100'] = data['log_ret * 100'] - np.mean(data['log_ret * 100'])\n",
    "returns = data['log_ret * 100'].values[1:]\n",
    "#plt.plot(data['log_ret * 100'])"
   ]
  },
  {
   "cell_type": "code",
   "execution_count": 2,
   "id": "46f44b7b-38cb-4972-a26b-9c7917333f1e",
   "metadata": {},
   "outputs": [],
   "source": [
    "act_func = RECH.relu"
   ]
  },
  {
   "cell_type": "markdown",
   "id": "caf98ae4-b04b-4ad3-9847-5e695fecf48c",
   "metadata": {},
   "source": [
    "## Brownless et al 2011: As much data as possible\n",
    "-> Data dates back to 1990"
   ]
  },
  {
   "cell_type": "code",
   "execution_count": 3,
   "id": "7f377257-201f-40ab-bccf-592b1756d23f",
   "metadata": {},
   "outputs": [
    {
     "name": "stdout",
     "output_type": "stream",
     "text": [
      "[*********************100%***********************]  1 of 1 completed\n"
     ]
    },
    {
     "data": {
      "text/plain": [
       "Text(0.5, 1.0, 'S&P 500 log returns')"
      ]
     },
     "execution_count": 3,
     "metadata": {},
     "output_type": "execute_result"
    },
    {
     "data": {
      "image/png": "[encoded data removed]",
      "text/plain": [
       "<Figure size 432x288 with 1 Axes>"
      ]
     },
     "metadata": {
      "needs_background": "light"
     },
     "output_type": "display_data"
    }
   ],
   "source": [
    "data = yf.download(\"^GSPC\", start=\"1990-01-01\", end=\"2020-10-01\")\n",
    "data['pct_change'] = data[\"Adj Close\"].pct_change()\n",
    "data['log_ret'] = np.log(data[\"Adj Close\"]) - np.log(data[\"Adj Close\"].shift(1))\n",
    "data['log_ret * 100'] = data['log_ret'] * 100\n",
    "returns = data['log_ret * 100'].values[1:]\n",
    "plt.plot(data['log_ret * 100'])\n",
    "plt.title(\"S&P 500 log returns\", size = 20)"
   ]
  },
  {
   "cell_type": "markdown",
   "id": "a63fd5ff-39f6-45cc-8558-a84ec280b983",
   "metadata": {},
   "source": [
    "## What is sample, what is out of sample?\n",
    "\n",
    "Important to have both low and high volatility periods both in the sample and outside the sample\n",
    "\n",
    "Out of sample period: 2015- 2020"
   ]
  },
  {
   "cell_type": "code",
   "execution_count": 9,
   "id": "4ad52091-7a4e-4bf4-ad1d-ffa8d586ccb8",
   "metadata": {},
   "outputs": [],
   "source": [
    "# in sample data is all the data before 01.01.2015\n",
    "is_list = [(data.index[x] < datetime.date(2015, 1, 1)) for x in range(len(data)) ]\n",
    "is_data = data[is_list]\n",
    "is_data.drop(index=is_data.index[0], axis=0, inplace=True) # dropping the first value with NA in returns\n",
    "is_returns = is_data['log_ret * 100'].values\n",
    "\n",
    "# out of sample data is all the data from 01.01.2015\n",
    "os_list = [(data.index[x] >= datetime.date(2015, 1, 1)) for x in range(len(data)) ]\n",
    "os_data = data[os_list]\n",
    "os_returns = os_data['log_ret * 100'].values"
   ]
  },
  {
   "cell_type": "raw",
   "id": "5011dadc-5ce3-4e89-9ac0-70f129d94bd9",
   "metadata": {},
   "source": [
    "is_data['pct_change'] = is_data[\"Adj Close\"].pct_change()\n",
    "is_data['log_ret'] = np.log(is_data[\"Adj Close\"]) - np.log(is_data[\"Adj Close\"].shift(1))\n",
    "is_data['log_ret * 100'] = is_data['log_ret'] * 100\n",
    "is_returns = is_data['log_ret * 100'].values[1:]\n",
    "plt.plot(is_data['log_ret * 100'])\n",
    "plt.title(\"In sample S&P 500 log returns\", size = 20)"
   ]
  },
  {
   "cell_type": "raw",
   "id": "1ddbd1e4-8ff3-4fa3-aefa-e91eed2191bd",
   "metadata": {},
   "source": [
    "os_data['pct_change'] = os_data[\"Adj Close\"].pct_change()\n",
    "os_data['log_ret'] = np.log(os_data[\"Adj Close\"]) - np.log(os_data[\"Adj Close\"].shift(1))\n",
    "os_data['log_ret * 100'] = os_data['log_ret'] * 100\n",
    "os_returns = os_data['log_ret * 100'].values[1:]\n",
    "plt.plot(os_data['log_ret * 100'])\n",
    "plt.title(\"Out of sample S&P 500 log returns\", size = 20)"
   ]
  },
  {
   "cell_type": "code",
   "execution_count": 10,
   "id": "968b559e-bfe0-474d-a732-06a5ec612ab6",
   "metadata": {},
   "outputs": [
    {
     "data": {
      "text/plain": [
       "1447"
      ]
     },
     "execution_count": 10,
     "metadata": {},
     "output_type": "execute_result"
    }
   ],
   "source": [
    "len(os_data)"
   ]
  },
  {
   "cell_type": "code",
   "execution_count": 11,
   "id": "e848a811-3b95-42d6-bc67-23d624c854f6",
   "metadata": {},
   "outputs": [
    {
     "data": {
      "text/plain": [
       "6300"
      ]
     },
     "execution_count": 11,
     "metadata": {},
     "output_type": "execute_result"
    }
   ],
   "source": [
    "len(is_data)"
   ]
  },
  {
   "cell_type": "code",
   "execution_count": 13,
   "id": "88f0aaa5-1af1-425d-a2b9-878127c5d31e",
   "metadata": {},
   "outputs": [],
   "source": [
    "#is_data"
   ]
  },
  {
   "cell_type": "markdown",
   "id": "f4cc1f0a-0506-49b9-858f-ee9ba0df998d",
   "metadata": {},
   "source": [
    "## Estimating GARCH\n",
    "\n",
    "No updating"
   ]
  },
  {
   "cell_type": "code",
   "execution_count": 14,
   "id": "1f081089-2519-4ef0-8f81-464b489c428a",
   "metadata": {},
   "outputs": [
    {
     "name": "stdout",
     "output_type": "stream",
     "text": [
      "Optimization terminated successfully.\n",
      "         Current function value: 5364.301201\n",
      "         Iterations: 79\n",
      "         Function evaluations: 144\n"
     ]
    }
   ],
   "source": [
    "vP0 = (0.1, 0.1, 0.8)\n",
    "my_bounds = ((0.0001,1), (0.0001,1), (0.0001, 1))\n",
    "\n",
    "res_garch = opt.minimize(RECH.garch_loglike, vP0, args = (act_func, is_returns),\n",
    "                  bounds = my_bounds,\n",
    "                   method = \"Nelder-Mead\",\n",
    "                  options = {\"disp\": True, \"maxiter\": 500000})"
   ]
  },
  {
   "cell_type": "code",
   "execution_count": 20,
   "id": "e8d5fbd2-a939-42b9-8d2d-062c78e3b6c6",
   "metadata": {},
   "outputs": [
    {
     "data": {
      "text/plain": [
       "array([0.01091141, 0.0762411 , 0.91491172])"
      ]
     },
     "execution_count": 20,
     "metadata": {},
     "output_type": "execute_result"
    }
   ],
   "source": [
    "res_garch.x"
   ]
  },
  {
   "cell_type": "code",
   "execution_count": 21,
   "id": "492baddd-03a9-407d-ad79-df9391de30a0",
   "metadata": {},
   "outputs": [
    {
     "data": {
      "text/plain": [
       "<matplotlib.legend.Legend at 0x22d415b7100>"
      ]
     },
     "execution_count": 21,
     "metadata": {},
     "output_type": "execute_result"
    },
    {
     "data": {
      "image/png": "[encoded data removed]",
      "text/plain": [
       "<Figure size 864x576 with 1 Axes>"
      ]
     },
     "metadata": {
      "needs_background": "light"
     },
     "output_type": "display_data"
    }
   ],
   "source": [
    "fig, axs = plt.subplots(1,1, figsize = (12,8))\n",
    "plt.plot(os_returns, label = \"os returns\")\n",
    "plt.plot(RECH.garch(res_garch.x, act_func, os_returns)[0], label = \"GARCH\")\n",
    "plt.legend()"
   ]
  },
  {
   "cell_type": "code",
   "execution_count": 236,
   "id": "07d682f7-e29d-470a-b3b0-e694c6d8e642",
   "metadata": {},
   "outputs": [],
   "source": [
    "# for period forecasts\n",
    "\n",
    "def garch_forecast_2(pars, y_start, sigma_start, length):\n",
    "    fore = np.zeros(length)\n",
    "    for i in range(length):\n",
    "        if i == 0:\n",
    "            fore[i] = pars[0] + pars[1] * y_start**2 + pars[2] * sigma_start\n",
    "        else:\n",
    "            fore[i] = pars[0] + pars[2] * fore[i-1]\n",
    "    return fore"
   ]
  },
  {
   "cell_type": "code",
   "execution_count": 22,
   "id": "d564ef24-b2ab-4be0-b06e-1813b6a3f957",
   "metadata": {},
   "outputs": [],
   "source": [
    "def garch_forecast(pars, y_start, sigma_start, returns):\n",
    "    fore = np.zeros(len(returns))\n",
    "    for i in range(len(returns)):\n",
    "        if i == 0:\n",
    "            fore[i] = pars[0] + pars[1] * y_start**2 + pars[2] * sigma_start\n",
    "        else:\n",
    "            fore[i] = pars[0] + pars[1] * returns[i-1]**2 + pars[2] * fore[i-1]\n",
    "    return fore"
   ]
  },
  {
   "cell_type": "markdown",
   "id": "26687160-6a87-4c5e-8cda-8911d7fb0070",
   "metadata": {},
   "source": [
    "## Re-estimating GARCH for parameter updates\n",
    "weekly, every 5 days"
   ]
  },
  {
   "cell_type": "code",
   "execution_count": 23,
   "id": "a39e86d9-980e-4fe8-9e47-8b43ee8c839a",
   "metadata": {},
   "outputs": [],
   "source": [
    "vP0 = (0.1, 0.1, 0.8)\n",
    "my_bounds = ((0.0001,1), (0.0001,1), (0.0001, 1))\n",
    "\n",
    "update_window = 20 # length of the updating window 20 -> monthly, 5 -> weekly\n",
    "sample_returns = is_returns # the sample returns serires keeps getting longer: after each iteration new informatuion is added\n",
    "os_decreasing = os_returns # out of sample returns, shrinking as sample increases\n",
    "forecasts = np.array(()) # empty array to be filles with forecasts\n",
    "res_list = [] # results, jsut to check if it actually updates\n",
    "\n",
    "for i in range(int(len(os_returns)/update_window)):\n",
    "    if i == 0:\n",
    "        # different starting values for optimisation as well as for forecasting in the first iteration\n",
    "        res_garch = opt.minimize(RECH.garch_loglike, vP0, args = (act_func, sample_returns),\n",
    "                      bounds = my_bounds,\n",
    "                       method = \"Nelder-Mead\",\n",
    "                      options = {\"disp\": False, \"maxiter\": 500000})\n",
    "        this_five_forecast = garch_forecast(res_garch.x, sample_returns[-1], res_garch.x[0]/(1-res_garch.x[1]-res_garch.x[2]), os_decreasing[:update_window])\n",
    "        sample_returns = np.concatenate((sample_returns, os_decreasing[:update_window]))\n",
    "        os_decreasing = np.delete(os_decreasing,range(update_window))\n",
    "        forecasts = np.concatenate((forecasts, this_five_forecast))\n",
    "        res_list.append(res_garch.x)\n",
    "    else:\n",
    "        res_garch = opt.minimize(RECH.garch_loglike, res_garch.x, args = (act_func, sample_returns),\n",
    "                      bounds = my_bounds,\n",
    "                       method = \"Nelder-Mead\",\n",
    "                      options = {\"disp\": False, \"maxiter\": 500000})\n",
    "        this_five_forecast = garch_forecast(res_garch.x, sample_returns[-1], forecasts[-1], os_decreasing[:update_window])\n",
    "        sample_returns = np.concatenate((sample_returns, os_decreasing[:update_window]))\n",
    "        os_decreasing = np.delete(os_decreasing,range(update_window))\n",
    "        forecasts = np.concatenate((forecasts, this_five_forecast))\n",
    "        res_list.append(res_garch.x)"
   ]
  },
  {
   "cell_type": "code",
   "execution_count": 238,
   "id": "a29be7ea-44cc-412c-bdf7-609c7ae8ac5d",
   "metadata": {},
   "outputs": [
    {
     "data": {
      "text/plain": [
       "array([0.01710683, 0.10143322, 0.88447166])"
      ]
     },
     "execution_count": 238,
     "metadata": {},
     "output_type": "execute_result"
    }
   ],
   "source": [
    "res_garch.x"
   ]
  },
  {
   "cell_type": "code",
   "execution_count": 239,
   "id": "7b0b614d-e6d1-448b-b88d-8915909d5283",
   "metadata": {},
   "outputs": [
    {
     "data": {
      "text/plain": [
       "array([0.01710683, 0.10143322, 0.88447166])"
      ]
     },
     "execution_count": 239,
     "metadata": {},
     "output_type": "execute_result"
    }
   ],
   "source": [
    "res_list[-1]"
   ]
  },
  {
   "cell_type": "markdown",
   "id": "d9c493ff-3cc2-429d-8651-d7441cf113be",
   "metadata": {},
   "source": [
    "## Realised Volatility\n",
    "\n",
    "Evaluating forecasts using realised volatility as a proxy for the true volatility"
   ]
  },
  {
   "cell_type": "code",
   "execution_count": 185,
   "id": "8f03e255-24d4-4e9a-a47e-a4d12cd6cda4",
   "metadata": {},
   "outputs": [],
   "source": [
    "rv = pd.read_csv(\"data/daily_rv_SP500.csv\")"
   ]
  },
  {
   "cell_type": "code",
   "execution_count": 186,
   "id": "3a55736f-bc38-46f7-9285-16feec0ef66a",
   "metadata": {},
   "outputs": [],
   "source": [
    "rv_list  = []\n",
    "\n",
    "for i in range(len(rv)):\n",
    "    rv_list.append(datetime.date(int(rv[\"date\"][i][0:4]),int(rv[\"date\"][i][5:7]), int(rv[\"date\"][i][8:10])))\n",
    "\n",
    "rv[\"Datetime\"] = rv_list"
   ]
  },
  {
   "cell_type": "code",
   "execution_count": 187,
   "id": "43b68e39-1c90-4d91-9be0-b664e9b4c7d2",
   "metadata": {},
   "outputs": [],
   "source": [
    "#rv[rv[\"Datetime\"] <= os_data.index[-1]]\n",
    "\n",
    "#rv[rv[\"Datetime\"] >= os_data.index[0]]\n",
    "\n",
    "rv_true = rv[(rv[\"Datetime\"] <= os_data.index[-1]) & (rv[\"Datetime\"] >= os_data.index[0])]\n",
    "\n",
    "rv_true.reset_index(inplace = True)\n",
    "\n",
    "rv_true.drop(rv_true.tail(len(os_returns) - len(forecasts)).index,inplace=True)\n",
    "\n",
    "rv_true[\"forecasts\"] = forecasts\n",
    "\n",
    "rv_true[\"RV * 10000\"] = rv_true[\"RV\"] * 10000\n",
    "\n",
    "rv_true[\"log ret\"] = os_returns[:-7]\n",
    "\n",
    "rv_true.drop(\"index\", axis = 1, inplace = True)"
   ]
  },
  {
   "cell_type": "code",
   "execution_count": 188,
   "id": "29ac69a7-a538-4c3e-9e0c-45666db903ef",
   "metadata": {},
   "outputs": [],
   "source": [
    "rv_true.set_index(\"Datetime\", inplace = True)"
   ]
  },
  {
   "cell_type": "markdown",
   "id": "c602e745-e879-4f9b-9350-ac0b67dcf2b8",
   "metadata": {},
   "source": [
    "## This data frame contains all out-of-sample data: volatility proxy RV; model forecasts; s&p log returns"
   ]
  },
  {
   "cell_type": "code",
   "execution_count": 191,
   "id": "88361bf4-7f3c-4511-b9ab-a54ce4e5e7fd",
   "metadata": {},
   "outputs": [
    {
     "data": {
      "text/html": [
       "<div>\n",
       "<style scoped>\n",
       "    .dataframe tbody tr th:only-of-type {\n",
       "        vertical-align: middle;\n",
       "    }\n",
       "\n",
       "    .dataframe tbody tr th {\n",
       "        vertical-align: top;\n",
       "    }\n",
       "\n",
       "    .dataframe thead th {\n",
       "        text-align: right;\n",
       "    }\n",
       "</style>\n",
       "<table border=\"1\" class=\"dataframe\">\n",
       "  <thead>\n",
       "    <tr style=\"text-align: right;\">\n",
       "      <th></th>\n",
       "      <th>date</th>\n",
       "      <th>RV</th>\n",
       "      <th>forecasts</th>\n",
       "      <th>RV * 10000</th>\n",
       "      <th>log ret</th>\n",
       "    </tr>\n",
       "    <tr>\n",
       "      <th>Datetime</th>\n",
       "      <th></th>\n",
       "      <th></th>\n",
       "      <th></th>\n",
       "      <th></th>\n",
       "      <th></th>\n",
       "    </tr>\n",
       "  </thead>\n",
       "  <tbody>\n",
       "    <tr>\n",
       "      <th>2015-01-02</th>\n",
       "      <td>2015-01-02</td>\n",
       "      <td>0.000071</td>\n",
       "      <td>1.221190</td>\n",
       "      <td>0.708029</td>\n",
       "      <td>-0.034002</td>\n",
       "    </tr>\n",
       "    <tr>\n",
       "      <th>2015-01-05</th>\n",
       "      <td>2015-01-05</td>\n",
       "      <td>0.000077</td>\n",
       "      <td>1.128280</td>\n",
       "      <td>0.766579</td>\n",
       "      <td>-1.844721</td>\n",
       "    </tr>\n",
       "    <tr>\n",
       "      <th>2015-01-06</th>\n",
       "      <td>2015-01-06</td>\n",
       "      <td>0.000112</td>\n",
       "      <td>1.302637</td>\n",
       "      <td>1.115356</td>\n",
       "      <td>-0.893325</td>\n",
       "    </tr>\n",
       "    <tr>\n",
       "      <th>2015-01-07</th>\n",
       "      <td>2015-01-07</td>\n",
       "      <td>0.000080</td>\n",
       "      <td>1.263552</td>\n",
       "      <td>0.800060</td>\n",
       "      <td>1.156274</td>\n",
       "    </tr>\n",
       "    <tr>\n",
       "      <th>2015-01-08</th>\n",
       "      <td>2015-01-08</td>\n",
       "      <td>0.000066</td>\n",
       "      <td>1.268882</td>\n",
       "      <td>0.660349</td>\n",
       "      <td>1.773017</td>\n",
       "    </tr>\n",
       "    <tr>\n",
       "      <th>...</th>\n",
       "      <td>...</td>\n",
       "      <td>...</td>\n",
       "      <td>...</td>\n",
       "      <td>...</td>\n",
       "      <td>...</td>\n",
       "    </tr>\n",
       "    <tr>\n",
       "      <th>2020-09-15</th>\n",
       "      <td>2020-09-15</td>\n",
       "      <td>0.000105</td>\n",
       "      <td>2.219370</td>\n",
       "      <td>1.052227</td>\n",
       "      <td>0.520579</td>\n",
       "    </tr>\n",
       "    <tr>\n",
       "      <th>2020-09-16</th>\n",
       "      <td>2020-09-16</td>\n",
       "      <td>0.000077</td>\n",
       "      <td>2.007566</td>\n",
       "      <td>0.774933</td>\n",
       "      <td>-0.462965</td>\n",
       "    </tr>\n",
       "    <tr>\n",
       "      <th>2020-09-17</th>\n",
       "      <td>2020-09-17</td>\n",
       "      <td>0.000370</td>\n",
       "      <td>1.814483</td>\n",
       "      <td>3.704069</td>\n",
       "      <td>-0.844795</td>\n",
       "    </tr>\n",
       "    <tr>\n",
       "      <th>2020-09-18</th>\n",
       "      <td>2020-09-18</td>\n",
       "      <td>0.000110</td>\n",
       "      <td>1.694356</td>\n",
       "      <td>1.103083</td>\n",
       "      <td>-1.124558</td>\n",
       "    </tr>\n",
       "    <tr>\n",
       "      <th>2020-09-21</th>\n",
       "      <td>2020-09-21</td>\n",
       "      <td>0.000390</td>\n",
       "      <td>1.643992</td>\n",
       "      <td>3.899785</td>\n",
       "      <td>-1.163856</td>\n",
       "    </tr>\n",
       "  </tbody>\n",
       "</table>\n",
       "<p>1440 rows × 5 columns</p>\n",
       "</div>"
      ],
      "text/plain": [
       "                  date        RV  forecasts  RV * 10000   log ret\n",
       "Datetime                                                         \n",
       "2015-01-02  2015-01-02  0.000071   1.221190    0.708029 -0.034002\n",
       "2015-01-05  2015-01-05  0.000077   1.128280    0.766579 -1.844721\n",
       "2015-01-06  2015-01-06  0.000112   1.302637    1.115356 -0.893325\n",
       "2015-01-07  2015-01-07  0.000080   1.263552    0.800060  1.156274\n",
       "2015-01-08  2015-01-08  0.000066   1.268882    0.660349  1.773017\n",
       "...                ...       ...        ...         ...       ...\n",
       "2020-09-15  2020-09-15  0.000105   2.219370    1.052227  0.520579\n",
       "2020-09-16  2020-09-16  0.000077   2.007566    0.774933 -0.462965\n",
       "2020-09-17  2020-09-17  0.000370   1.814483    3.704069 -0.844795\n",
       "2020-09-18  2020-09-18  0.000110   1.694356    1.103083 -1.124558\n",
       "2020-09-21  2020-09-21  0.000390   1.643992    3.899785 -1.163856\n",
       "\n",
       "[1440 rows x 5 columns]"
      ]
     },
     "execution_count": 191,
     "metadata": {},
     "output_type": "execute_result"
    }
   ],
   "source": [
    "rv_true"
   ]
  },
  {
   "cell_type": "code",
   "execution_count": 284,
   "id": "5ef7fe37-6919-487c-8596-5002b09b427f",
   "metadata": {},
   "outputs": [
    {
     "data": {
      "text/plain": [
       "<matplotlib.legend.Legend at 0x22d6423a6a0>"
      ]
     },
     "execution_count": 284,
     "metadata": {},
     "output_type": "execute_result"
    },
    {
     "data": {
      "image/png": "[encoded data removed]",
      "text/plain": [
       "<Figure size 720x432 with 1 Axes>"
      ]
     },
     "metadata": {
      "needs_background": "light"
     },
     "output_type": "display_data"
    }
   ],
   "source": [
    "fig, axs = plt.subplots(1,1, figsize = (10,6))\n",
    "plt.plot(rv_true[\"RV * 10000\"], alpha = 0.7, label = \"RV\", color = \"grey\")\n",
    "plt.plot(rv_true[\"forecasts\"], label = \"GARCH 1 day ahead forecasts\", linewidth = 2)\n",
    "plt.title(\"S&P 500 Volatility Forecasts\", size = 20)\n",
    "plt.legend()"
   ]
  },
  {
   "cell_type": "markdown",
   "id": "ef4a206f-4057-4f06-b22e-4db19c3f2b41",
   "metadata": {},
   "source": [
    "## Forecast Evaluation\n",
    "\n",
    "quasi-likelihood loss (QL) is the favourite metric of Brownless et al\n",
    "\n",
    "QL loss function is defined as: \n",
    "\n",
    "\\begin{align*}\n",
    "QL: \\quad L_{QL}(\\hat \\sigma_t^2, h_{t|t-k}) = \\frac{\\hat \\sigma_t^2}{h_{t|t-k}} - log \\frac{\\hat \\sigma_t^2}{h_{t|t-k}} - 1\n",
    "\\end{align*}\n",
    "\n",
    "\n",
    "Alternatively there is MSE:\n",
    "\n",
    "\\begin{align*}\n",
    "MSE: \\quad L_{MSE}(\\hat \\sigma_t^2, h_{t|t-k}) = (\\hat \\sigma_t^2 - h_{t|t-k})^2\n",
    "\\end{align*}"
   ]
  },
  {
   "cell_type": "code",
   "execution_count": 197,
   "id": "b10e1f16-4fdb-43fe-8242-c144224966bd",
   "metadata": {},
   "outputs": [],
   "source": [
    "def ql_loss(sigma_series, h_series):\n",
    "    return np.mean( (sigma_series/h_series) - np.log(sigma_series/h_series) -1 )"
   ]
  },
  {
   "cell_type": "code",
   "execution_count": 199,
   "id": "7b47b9d0-d1e6-491c-87c8-da128d909b5f",
   "metadata": {},
   "outputs": [],
   "source": [
    "def mse(sigma_series, h_series):\n",
    "    return np.mean( (sigma_series - h_series)**2 )"
   ]
  },
  {
   "cell_type": "code",
   "execution_count": 198,
   "id": "1bb0a0c2-7ec9-4d2b-b45b-0824c2fe6857",
   "metadata": {},
   "outputs": [
    {
     "data": {
      "text/plain": [
       "0.3923067505617931"
      ]
     },
     "execution_count": 198,
     "metadata": {},
     "output_type": "execute_result"
    }
   ],
   "source": [
    "ql_loss(rv_true[\"RV * 10000\"], rv_true[\"forecasts\"])"
   ]
  },
  {
   "cell_type": "code",
   "execution_count": 200,
   "id": "b860217e-6d8c-4daa-9338-45f0969aa3af",
   "metadata": {},
   "outputs": [
    {
     "data": {
      "text/plain": [
       "15.894287585905168"
      ]
     },
     "execution_count": 200,
     "metadata": {},
     "output_type": "execute_result"
    }
   ],
   "source": [
    "mse(rv_true[\"RV * 10000\"], rv_true[\"forecasts\"])"
   ]
  },
  {
   "cell_type": "code",
   "execution_count": 237,
   "id": "9e21d6a8-78f5-4dca-85ef-714c00e44a19",
   "metadata": {},
   "outputs": [
    {
     "data": {
      "text/plain": [
       "[<matplotlib.lines.Line2D at 0x22d60ff4be0>]"
      ]
     },
     "execution_count": 237,
     "metadata": {},
     "output_type": "execute_result"
    },
    {
     "data": {
      "image/png": "[encoded data removed]",
      "text/plain": [
       "<Figure size 432x288 with 1 Axes>"
      ]
     },
     "metadata": {
      "needs_background": "light"
     },
     "output_type": "display_data"
    }
   ],
   "source": [
    "# multi day forecast\n",
    "\n",
    "my_test = garch_forecast_2(res_garch.x, sample_returns[-1], res_garch.x[0]/(1-res_garch.x[1]-res_garch.x[2]), 20)\n",
    "\n",
    "res_garch.x\n",
    "\n",
    "my_test[-1]\n",
    "\n",
    "0.01710683 + 0.88447166 * my_test[-1]\n",
    "\n",
    "my_test\n",
    "\n",
    "plt.plot(my_test)"
   ]
  },
  {
   "cell_type": "code",
   "execution_count": null,
   "id": "f9fdb538-24ea-4a9d-b9ad-3c86ffc6ebe2",
   "metadata": {},
   "outputs": [],
   "source": []
  }
 ],
 "metadata": {
  "kernelspec": {
   "display_name": "Python 3 (ipykernel)",
   "language": "python",
   "name": "python3"
  },
  "language_info": {
   "codemirror_mode": {
    "name": "ipython",
    "version": 3
   },
   "file_extension": ".py",
   "mimetype": "text/x-python",
   "name": "python",
   "nbconvert_exporter": "python",
   "pygments_lexer": "ipython3",
   "version": "3.9.12"
  }
 },
 "nbformat": 4,
 "nbformat_minor": 5
}
